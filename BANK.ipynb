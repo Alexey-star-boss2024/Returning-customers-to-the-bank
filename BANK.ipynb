import pandas as pd
import matplotlib.pyplot as plt
import seaborn as sns
import plotly.express as px
churn_data = pd.read_csv('data/churn.csv')
churn_data.head()

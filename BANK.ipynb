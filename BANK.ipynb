import pandas as pd
import matplotlib.pyplot as plt
import seaborn as sns
import plotly.express as px
churn_data = pd.read_csv('https://github.com/Alexey-star-boss2024/Returning-customers-to-the-bank/blob/master/churn.csv')
churn_data.head()
exited = churn_data.groupby(by='Exited',as_index=False)['CustomerId'].count()
churn_data['Exited'] = churn_data['Exited'].apply(lambda x: 'Лояльный' if x == 0 else 'Ушедший')

# визуализация систем координат
fig, axes = plt.subplots(nrows=1, ncols=2, figsize=(15, 4))

# столбчатая диаграмма
axes[0].bar(
    x=exited['Exited'],
    height=exited['CustomerId']
);
axes[0].set_title("Соотношение лояльных и ушедший клиентов в количестве");

exited_pie = churn_data.groupby(by='Exited')['CustomerId'].count()
axes[1].pie(
    exited_pie,#берем данные o соотношении клиентов
    labels=exited_pie .index,
    autopct='%.0f%%',#округление до первого знака после запятой
    explode=[0.1,0.0]#доля смещения от центра
);
axes[1].set_title("Соотношение лояльных и ушедший клиентов в долях");
